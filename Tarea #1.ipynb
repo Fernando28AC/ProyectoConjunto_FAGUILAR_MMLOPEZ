{
 "cells": [
  {
   "cell_type": "markdown",
   "metadata": {},
   "source": [
    "<img style=\"float: left; margin: 30px 15px 15px 15px;\" src=\"https://pngimage.net/wp-content/uploads/2018/06/logo-iteso-png-5.png\" width=\"300\" height=\"500\" /> \n",
    "    \n",
    "    \n",
    "### <font color='navy'> Simulación de procesos financieros. \n",
    "\n",
    "**Nombres:** Fernando Aguilar Carvajal. Martha Mariela López Molina\n",
    "\n",
    "**Fecha:** 29 de enero del 2021.\n",
    "\n",
    "**Expediente** : IF724031. if721862.\n",
    "**Profesor:** Oscar David Jaramillo Zuluaga.\n",
    "\n",
    "# Tarea 1: Clase 2"
   ]
  },
  {
   "cell_type": "markdown",
   "metadata": {},
   "source": [
    "# <font color=red>**Tarea 1- git**</font> \n",
    "### Fecha de entrega: Lunes 1 de Febrero.\n",
    "### Recuerden que en canvas se encuntra el archivo Plantilla tareas, en donde deben de solucionar todas sus tareas.\n",
    "\n",
    "Este archivo contiene las pautas necesarias para crear el archivo conjunto en Github, usando los notebooks de Jupyter:\n",
    "\n",
    "1.  El archivo debe realizarse en parejas y sólo uno de los dos debe crear en su cuenta de *Github* un repositorio con el nombre **ProyectoConjunto\\_APELLIDO1\\_APELLIDO2**. A la persona que creó el repositorio la llamaremos (ESTUDIANTE 1 ). El APELLIDO se debe de escribir (Iniciales del nombre y primer apellido), por ejemplo si yo creara el archivo lo debería de nombrar *ProyectoConjunto\\_ODJaramillo*. \n",
    "1.  Posteriormente, desde la cuenta del (ESTUDIANTE 2), 'aquel que no creó el repositorio anterior', ingresar al perfil del ESTUDIANTE 1 y en el repositorio creado en el paso 1, realizar un \"fork\" de este repositorio en su perfil, y además realizar los pasos en Gitkraken para hacer dicho repositorio \"Remoto (REMOTE)\" VER DICHO PROCEDIMIENTO EN LA CLASE **Clase2_GitTurorial2**.\n",
    "1.  Luego de realizados los pasos 1 y 2, el ESTUDIANTE 1 y ESTUDIANTE 2, desde su computador realizar un *clone* del repositorio creado en el numeral 1 en la carpeta que cada quién haya asignado para el curso en su computador. \n",
    "1.  Luego desde Jupyter el ESTUDIANTE 1, crea un nuevo ``notebook`` en el repositorio del paso 3. \n",
    "1.  En este nuevo notebook el ESTUDIANTE 1 y ESTUDIANTE 2, deben realizar una presentación describiendo sus expectativas del curso y la transcipción de la Figura 1 y Figura 2 respectivamente, haciendo uso de la sintaxis Markdown. Recuerden definir unas celdas donde cada usuario modificará el cuaderno de python para evitar futuros conflictos. \n",
    "\n",
    "**RECOMENDACIÓN:ANTES DE EMPEZAR A REALIZAR MUCHAS MODIFICACIONES DEL NOTEBOOK PRIMERO REALICEN CAMBIOS PEQUEÑOS EN EL ARCHIVO EN CONJUNTO Y VERIFIQUEN SI TANTO EL ``ESTUDIANTE 1`` COMO EL ``ESTUDIANTE 2``  RECIBEN LAS ACTUALIZACIONES QUE REALIZAN CADA UNO EN EL PROYECTO PARA VERIFICAR QUE EL REMOTE ESTUVO BIEN CONFIGURADO.**\n",
    ">Les recomiendo ver los siguientes enlaces para ver distintas funciones para escribir en markdown.\n",
    ">    - [Creador de tablas online](https://www.tablesgenerator.com/markdown_tables)\n",
    ">    - [Sintáxis markdown](https://joplinapp.org/markdown/)\n",
    "\n",
    "6. Cuando ya se encuentre el proyecto conjunto con la información del ESTUDIANTE 1 y ESTUDIANTE 2, el ``ESTUDIANTE 2``  debe de realizar un `pull request` con las modificaciones realizadas a el `ESTUDIANTE 1` para que este realice un merge a la rama `master`, con las moficaciones propuestas por el `ESTUDIANTE 2`, TAL Y CÓMO SE REALIZÓ EN CLASE. (Recuerden que los pull request se generan en *Gitkraken* y se administran los comentarios o cambios propuestos por su compañero desde *Github* ver `Clase1_GitTurorial` para aclaración de dudas, donde se explica cómo crear *branch y pull request*)\n",
    "\n",
    "7. Luego de culminado los pasos anteriores, el ESTUDIANTE 1,realizará un programa que imprima la serie de fibonacci para sus primeros 100 términos en un array de python,usando la rama “master” del repositorio creado. Por otro lado, el ESTUDIANTE 2,creando un “branch” llamado `ejerPrograma`, generará un programa que muestre los números primos del 0-100. Luego de que el ESTUDIANTE 2 haya terminado su programa, debe de realizar un “pull request” al ESTUDIANTE 1, **ANTES** de hacer un “merge” de la rama `ejerPrograma` en el proyecto principal (“master”). Luego de realizado estos pasos **NO BORRAR LA RAMA CREADA (`ejerPrograma`)**"
   ]
  },
  {
   "cell_type": "markdown",
   "metadata": {},
   "source": [
    "### Expectativas del curso: Estudiante 1\n",
    "\n",
    "- En este curso espero aprender sobre diferentes métodos de análisis para los mercados financieros, ya que me interesa aprender nuevas formas para pronosticar diferentes escenarios para distintos activos financieros, y también espero los conocimientos adquiridos en la materia me ayuden para lograr mis objetivos como analista financiero que deseo convertirme."
   ]
  },
  {
   "cell_type": "markdown",
   "metadata": {},
   "source": [
    "### Expectativas del curso: Estudiante 2\n",
    "\n",
    "- Mi expectativa de este curso es lograr darle aplicación a los conocimientos adquiridos para poder hacer análisis y pronósticos, hablando de finanzas, de una manera más eficiente."
   ]
  },
  {
   "cell_type": "markdown",
   "metadata": {},
   "source": [
    "### Figura Estudiante 1"
   ]
  },
  {
   "cell_type": "markdown",
   "metadata": {},
   "source": [
    "| $$i$$ | $$x$$    | $$f(x)$$   |\n",
    "|:---:|:------:|:--------:|\n",
    "|0| -1   | 0.3678 |\n",
    "|<font color = red > 1 </font>|<font color = red > -0.5 </font>| <font color = red > 0.7788 </font>|\n",
    "|<font color = blue> 2 </font>|<font color = blue>  0   </font>| <font color = blue> 1 </font>|\n",
    "|<font color = red>  3 </font>|<font color = red>   0.5 </font>| <font color = red>  0.7788 </font>|\n",
    "| 4 | 1    | 0.3678 |\n",
    "    \n",
    "    \n",
    "<p style='text-align: center;'> Cuadro 1: Tabla de valores de $f(x)$ </p>\n",
    "\n",
    "\n",
    "$$\\int_{-1}^1 e^{-x^2} dx\\approx \\frac{0,5}{3} [f(-1) + f(1) + 4(\\color{red}{f(-0,5) + f(0,5)}) + 2\\color{blue}{f(0)}]$$\n",
    "$$ \\approx \\frac{0,5}{3} [0,3678 + 0,3678 + 4(\\color{red}{0,7788 + 0,7788}) + 2\\cdot\\color{blue}{1}] \\approx 1,4943$$\n",
    "<br>\n",
    "\n",
    "<center>A modo de verificación, se calculará por software, el valor del área para $n$ = 100, un valor mucho</center>\n",
    "<center>más elevado al que se utilizó anteriormente. Si lo calculado previamente es correcto, se esperaría que</center>\n",
    "<center>sea próximo al valor resentado a continuación para ser una buena aproximación. </center>\n",
    "<br>\n",
    "$$\\int_{-1}^1 e^{-x^2} dx\\approx 1,4936 $$"
   ]
  },
  {
   "cell_type": "markdown",
   "metadata": {},
   "source": [
    "### Figura Estudiante 2"
   ]
  },
  {
   "cell_type": "markdown",
   "metadata": {},
   "source": []
  },
  {
   "cell_type": "markdown",
   "metadata": {},
   "source": [
    "| i                 | 1   | 2   | 3   | 4   | 5 | 6 | 7  |\n",
    "|-------------------|-----|-----|-----|-----|---|---|----|\n",
    "| $E_i(V)$          | 12  | 10  | 24  | 12  | - | - | -  |\n",
    "| $r_i(\\Omega)$     | 0.1 | 0.5 | 0.2 | 0.5 | - | - | -  |\n",
    "| $R_i(\\Omega)$     | 25  | 40  | 16  | 20  | 9 | 4 | 20 |"
   ]
  },
  {
   "cell_type": "markdown",
   "metadata": {},
   "source": []
  },
  {
   "cell_type": "markdown",
   "metadata": {},
   "source": [
    "<font color = dodgerblue>Kemna y Vorst (1990)</font> muestran que las opciones asiáticas con media geométrica continua se pueden valuar con el mismo enfoque de las opciones *plain vanilla*; solo se deben cambiar los parámetros de volatilidad ${\\sigma}$ por ${\\sigma}$<sub>a</sub>, y el costo de acarreo *b* por *b*<sub>A</sub>.\n",
    "De acuerdo con Kemna y Vorst, las fórmulas para valuar una opción de compra y una opción de venta son:\n",
    "\n",
    "c $\\approx$ $S_t$$e^{(b_A-r)(T-t)}$$\\phi$($d_1$) - K$e^{-r(T-t)}$$\\phi(d_2)$\n",
    "\n",
    "p $\\approx$ K$e^{-r(T-t)}$$\\phi$($-d_2$) - $S_t$$e^{(b_A-r)(T-t)}$$\\phi(-d_1)$\n",
    "\n",
    "con $d_1$ y $d_2$ dados por:\n",
    "\n",
    "$d_1$ = $\\frac{ln(S_t/K) + (b_A + 1/2\\sigma^{2}_a)(T-t)}{\\sigma\\sqrt{T-t}}$\n",
    "\n",
    "$d_2$ = $d_1 - \\sigma_a\\sqrt{T - t}$\n",
    "\n",
    "La función $\\phi(d)$ es la función de distribución acumulada de $E \\sim N(0, 1)$. La volatilidad ajustada es igual a:\n",
    "\n",
    "$\\sigma_a = \\frac{\\sigma}{\\sqrt{3}}$,\n",
    "\n",
    "mientras que el costo de acarreo ajustado es:\n",
    "\n",
    "$b_A = \\frac{1}{2}(v - \\frac{\\sigma^{2}}{6})$"
   ]
  },
  {
   "cell_type": "markdown",
   "metadata": {},
   "source": [
    "### Ejercicio Estudiante 1"
   ]
  },
  {
   "cell_type": "markdown",
   "metadata": {},
   "source": [
    "#### Serie de fibonacci para sus primeros 100 términos"
   ]
  },
  {
   "cell_type": "code",
   "execution_count": 7,
   "metadata": {},
   "outputs": [
    {
     "name": "stdout",
     "output_type": "stream",
     "text": [
      "0 1 1 2 3 5 8 13 21 34 55 89 144 233 377 610 987 1597 2584 4181 6765 10946 17711 28657 46368 75025 121393 196418 317811 514229 832040 1346269 2178309 3524578 5702887 9227465 14930352 24157817 39088169 63245986 102334155 165580141 267914296 433494437 701408733 1134903170 1836311903 2971215073 4807526976 7778742049 12586269025 20365011074 32951280099 53316291173 86267571272 139583862445 225851433717 365435296162 591286729879 956722026041 1548008755920 2504730781961 4052739537881 6557470319842 10610209857723 17167680177565 27777890035288 44945570212853 72723460248141 117669030460994 190392490709135 308061521170129 498454011879264 806515533049393 1304969544928657 2111485077978050 3416454622906707 5527939700884757 8944394323791464 14472334024676221 23416728348467685 37889062373143906 61305790721611591 99194853094755497 160500643816367088 259695496911122585 420196140727489673 679891637638612258 1100087778366101931 1779979416004714189 2880067194370816120 4660046610375530309 7540113804746346429 12200160415121876738 19740274219868223167 31940434634990099905 51680708854858323072 83621143489848422977 135301852344706746049 218922995834555169026 "
     ]
    }
   ],
   "source": [
    "n = 100\n",
    "a, b = 0,1\n",
    "for i in range(n):\n",
    "    print(a, end=' ')\n",
    "    a, b = b, a + b"
   ]
  },
  {
   "cell_type": "markdown",
   "metadata": {},
   "source": [
    "### Ejercicio Estudiante 2"
   ]
  },
  {
   "cell_type": "markdown",
   "metadata": {},
   "source": []
  },
  {
   "cell_type": "markdown",
   "metadata": {},
   "source": [
    "Escribir un programa que cree un diccionario vacío y lo vaya llenado con información sobre una persona (por ejemplo nombre, edad, sexo, teléfono, correo electrónico, etc.) que se le pida al usuario. Cada vez que se añada un nuevo dato debe imprimirse el contenido del diccionario."
   ]
  },
  {
   "cell_type": "code",
   "execution_count": 23,
   "metadata": {},
   "outputs": [
    {
     "ename": "KeyboardInterrupt",
     "evalue": "Interrupted by user",
     "output_type": "error",
     "traceback": [
      "\u001b[1;31m---------------------------------------------------------------------------\u001b[0m",
      "\u001b[1;31mKeyboardInterrupt\u001b[0m                         Traceback (most recent call last)",
      "\u001b[1;32m<ipython-input-23-714a63516c5a>\u001b[0m in \u001b[0;36m<module>\u001b[1;34m\u001b[0m\n\u001b[0;32m      7\u001b[0m \u001b[0mdatos\u001b[0m \u001b[1;33m=\u001b[0m \u001b[1;34m'1'\u001b[0m\u001b[1;33m\u001b[0m\u001b[1;33m\u001b[0m\u001b[0m\n\u001b[0;32m      8\u001b[0m \u001b[1;32mwhile\u001b[0m \u001b[0mdatos\u001b[0m \u001b[1;33m==\u001b[0m \u001b[1;34m'1'\u001b[0m\u001b[1;33m:\u001b[0m\u001b[1;33m\u001b[0m\u001b[1;33m\u001b[0m\u001b[0m\n\u001b[1;32m----> 9\u001b[1;33m     \u001b[0mnombre\u001b[0m\u001b[1;33m.\u001b[0m\u001b[0mappend\u001b[0m\u001b[1;33m(\u001b[0m\u001b[0minput\u001b[0m\u001b[1;33m(\u001b[0m\u001b[1;34m'Ingrese su nombre: '\u001b[0m\u001b[1;33m)\u001b[0m\u001b[1;33m)\u001b[0m\u001b[1;33m\u001b[0m\u001b[1;33m\u001b[0m\u001b[0m\n\u001b[0m\u001b[0;32m     10\u001b[0m     \u001b[0mapellido\u001b[0m\u001b[1;33m.\u001b[0m\u001b[0mappend\u001b[0m\u001b[1;33m(\u001b[0m\u001b[0minput\u001b[0m\u001b[1;33m(\u001b[0m\u001b[1;34m'Ingrese su apellido: '\u001b[0m\u001b[1;33m)\u001b[0m\u001b[1;33m)\u001b[0m\u001b[1;33m\u001b[0m\u001b[1;33m\u001b[0m\u001b[0m\n\u001b[0;32m     11\u001b[0m     \u001b[0medad\u001b[0m\u001b[1;33m.\u001b[0m\u001b[0mappend\u001b[0m\u001b[1;33m(\u001b[0m\u001b[0minput\u001b[0m\u001b[1;33m(\u001b[0m\u001b[1;34m'Ingrese su edad: '\u001b[0m\u001b[1;33m)\u001b[0m\u001b[1;33m)\u001b[0m\u001b[1;33m\u001b[0m\u001b[1;33m\u001b[0m\u001b[0m\n",
      "\u001b[1;32m~\\anaconda3\\lib\\site-packages\\ipykernel\\kernelbase.py\u001b[0m in \u001b[0;36mraw_input\u001b[1;34m(self, prompt)\u001b[0m\n\u001b[0;32m    858\u001b[0m                 \u001b[1;34m\"raw_input was called, but this frontend does not support input requests.\"\u001b[0m\u001b[1;33m\u001b[0m\u001b[1;33m\u001b[0m\u001b[0m\n\u001b[0;32m    859\u001b[0m             )\n\u001b[1;32m--> 860\u001b[1;33m         return self._input_request(str(prompt),\n\u001b[0m\u001b[0;32m    861\u001b[0m             \u001b[0mself\u001b[0m\u001b[1;33m.\u001b[0m\u001b[0m_parent_ident\u001b[0m\u001b[1;33m,\u001b[0m\u001b[1;33m\u001b[0m\u001b[1;33m\u001b[0m\u001b[0m\n\u001b[0;32m    862\u001b[0m             \u001b[0mself\u001b[0m\u001b[1;33m.\u001b[0m\u001b[0m_parent_header\u001b[0m\u001b[1;33m,\u001b[0m\u001b[1;33m\u001b[0m\u001b[1;33m\u001b[0m\u001b[0m\n",
      "\u001b[1;32m~\\anaconda3\\lib\\site-packages\\ipykernel\\kernelbase.py\u001b[0m in \u001b[0;36m_input_request\u001b[1;34m(self, prompt, ident, parent, password)\u001b[0m\n\u001b[0;32m    902\u001b[0m             \u001b[1;32mexcept\u001b[0m \u001b[0mKeyboardInterrupt\u001b[0m\u001b[1;33m:\u001b[0m\u001b[1;33m\u001b[0m\u001b[1;33m\u001b[0m\u001b[0m\n\u001b[0;32m    903\u001b[0m                 \u001b[1;31m# re-raise KeyboardInterrupt, to truncate traceback\u001b[0m\u001b[1;33m\u001b[0m\u001b[1;33m\u001b[0m\u001b[1;33m\u001b[0m\u001b[0m\n\u001b[1;32m--> 904\u001b[1;33m                 \u001b[1;32mraise\u001b[0m \u001b[0mKeyboardInterrupt\u001b[0m\u001b[1;33m(\u001b[0m\u001b[1;34m\"Interrupted by user\"\u001b[0m\u001b[1;33m)\u001b[0m \u001b[1;32mfrom\u001b[0m \u001b[1;32mNone\u001b[0m\u001b[1;33m\u001b[0m\u001b[1;33m\u001b[0m\u001b[0m\n\u001b[0m\u001b[0;32m    905\u001b[0m             \u001b[1;32mexcept\u001b[0m \u001b[0mException\u001b[0m \u001b[1;32mas\u001b[0m \u001b[0me\u001b[0m\u001b[1;33m:\u001b[0m\u001b[1;33m\u001b[0m\u001b[1;33m\u001b[0m\u001b[0m\n\u001b[0;32m    906\u001b[0m                 \u001b[0mself\u001b[0m\u001b[1;33m.\u001b[0m\u001b[0mlog\u001b[0m\u001b[1;33m.\u001b[0m\u001b[0mwarning\u001b[0m\u001b[1;33m(\u001b[0m\u001b[1;34m\"Invalid Message:\"\u001b[0m\u001b[1;33m,\u001b[0m \u001b[0mexc_info\u001b[0m\u001b[1;33m=\u001b[0m\u001b[1;32mTrue\u001b[0m\u001b[1;33m)\u001b[0m\u001b[1;33m\u001b[0m\u001b[1;33m\u001b[0m\u001b[0m\n",
      "\u001b[1;31mKeyboardInterrupt\u001b[0m: Interrupted by user"
     ]
    }
   ],
   "source": [
    "nombre = []\n",
    "apellido = []\n",
    "edad = []\n",
    "sexo = []\n",
    "telefono = []\n",
    "correo = []\n",
    "datos = '1'\n",
    "while datos == '1':\n",
    "    nombre.append(input('Ingrese su nombre: '))\n",
    "    apellido.append(input('Ingrese su apellido: '))\n",
    "    edad.append(input('Ingrese su edad: '))\n",
    "    sexo.append(input('Ingrese su sexo: '))\n",
    "    telefono.append(input('Ingrese su número de teléfono: '))\n",
    "    correo.append(input('Ingrese su correo: '))\n",
    "    diccionario = {'Nombre': nombre, 'Apellido': apellido, 'Edad': edad, 'Sexo': sexo, 'Teléfono': telefono, 'Correo': correo}\n",
    "    print(diccionario)\n",
    "    datos = input('¿Desea hacer un registro? 1=Sí. 2=No. ')"
   ]
  }
 ],
 "metadata": {
  "kernelspec": {
   "display_name": "Python 3",
   "language": "python",
   "name": "python3"
  },
  "language_info": {
   "codemirror_mode": {
    "name": "ipython",
    "version": 3
   },
   "file_extension": ".py",
   "mimetype": "text/x-python",
   "name": "python",
   "nbconvert_exporter": "python",
   "pygments_lexer": "ipython3",
   "version": "3.8.3"
  }
 },
 "nbformat": 4,
 "nbformat_minor": 2
}
